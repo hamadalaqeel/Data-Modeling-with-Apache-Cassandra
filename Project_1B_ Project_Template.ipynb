{
 "cells": [
  {
   "cell_type": "markdown",
   "metadata": {
    "editable": true
   },
   "source": [
    "# Part I. ETL Pipeline for Pre-Processing the Files"
   ]
  },
  {
   "cell_type": "markdown",
   "metadata": {
    "editable": true
   },
   "source": [
    "## PLEASE RUN THE FOLLOWING CODE FOR PRE-PROCESSING THE FILES"
   ]
  },
  {
   "cell_type": "markdown",
   "metadata": {
    "editable": true
   },
   "source": [
    "#### Import Python packages "
   ]
  },
  {
   "cell_type": "code",
   "execution_count": 21,
   "metadata": {
    "editable": true
   },
   "outputs": [],
   "source": [
    "# Import Python packages \n",
    "import pandas as pd\n",
    "import cassandra\n",
    "import re\n",
    "import os\n",
    "import glob\n",
    "import numpy as np\n",
    "import json\n",
    "import csv"
   ]
  },
  {
   "cell_type": "markdown",
   "metadata": {
    "editable": true
   },
   "source": [
    "#### Creating list of filepaths to process original event csv data files"
   ]
  },
  {
   "cell_type": "code",
   "execution_count": 22,
   "metadata": {
    "editable": true
   },
   "outputs": [
    {
     "name": "stdout",
     "output_type": "stream",
     "text": [
      "/home/workspace\n"
     ]
    }
   ],
   "source": [
    "# checking your current working directory\n",
    "print(os.getcwd())\n",
    "\n",
    "# Get your current folder and subfolder event data\n",
    "filepath = os.getcwd() + '/event_data'\n",
    "\n",
    "# Create a for loop to create a list of files and collect each filepath\n",
    "for root, dirs, files in os.walk(filepath):\n",
    "    \n",
    "# join the file path and roots with the subdirectories using glob\n",
    "    file_path_list = glob.glob(os.path.join(root,'*'))\n",
    "    #print(file_path_list)"
   ]
  },
  {
   "cell_type": "markdown",
   "metadata": {
    "editable": true
   },
   "source": [
    "#### Processing the files to create the data file csv that will be used for Apache Casssandra tables"
   ]
  },
  {
   "cell_type": "code",
   "execution_count": 23,
   "metadata": {
    "editable": true
   },
   "outputs": [],
   "source": [
    "# initiating an empty list of rows that will be generated from each file\n",
    "full_data_rows_list = [] \n",
    "    \n",
    "# for every filepath in the file path list \n",
    "for f in file_path_list:\n",
    "\n",
    "# reading csv file \n",
    "    with open(f, 'r', encoding = 'utf8', newline='') as csvfile: \n",
    "        # creating a csv reader object \n",
    "        csvreader = csv.reader(csvfile) \n",
    "        next(csvreader)\n",
    "        \n",
    " # extracting each data row one by one and append it        \n",
    "        for line in csvreader:\n",
    "            #print(line)\n",
    "            full_data_rows_list.append(line) \n",
    "            \n",
    "# uncomment the code below if you would like to get total number of rows \n",
    "#print(len(full_data_rows_list))\n",
    "# uncomment the code below if you would like to check to see what the list of event data rows will look like\n",
    "#print(full_data_rows_list)\n",
    "\n",
    "# creating a smaller event data csv file called event_datafile_full csv that will be used to insert data into the \\\n",
    "# Apache Cassandra tables\n",
    "csv.register_dialect('myDialect', quoting=csv.QUOTE_ALL, skipinitialspace=True)\n",
    "\n",
    "with open('event_datafile_new.csv', 'w', encoding = 'utf8', newline='') as f:\n",
    "    writer = csv.writer(f, dialect='myDialect')\n",
    "    writer.writerow(['artist','firstName','gender','itemInSession','lastName','length',\\\n",
    "                'level','location','sessionId','song','userId'])\n",
    "    for row in full_data_rows_list:\n",
    "        if (row[0] == ''):\n",
    "            continue\n",
    "        writer.writerow((row[0], row[2], row[3], row[4], row[5], row[6], row[7], row[8], row[12], row[13], row[16]))\n"
   ]
  },
  {
   "cell_type": "code",
   "execution_count": 24,
   "metadata": {
    "editable": true
   },
   "outputs": [
    {
     "name": "stdout",
     "output_type": "stream",
     "text": [
      "183\n"
     ]
    }
   ],
   "source": [
    "# check the number of rows in your csv file\n",
    "with open('event_datafile_new.csv', 'r', encoding = 'utf8') as f:\n",
    "    print(sum(1 for line in f))"
   ]
  },
  {
   "cell_type": "markdown",
   "metadata": {
    "editable": true
   },
   "source": [
    "# Part II. Complete the Apache Cassandra coding portion of your project. \n",
    "\n",
    "## Now you are ready to work with the CSV file titled <font color=red>event_datafile_new.csv</font>, located within the Workspace directory.  The event_datafile_new.csv contains the following columns: \n",
    "- artist \n",
    "- firstName of user\n",
    "- gender of user\n",
    "- item number in session\n",
    "- last name of user\n",
    "- length of the song\n",
    "- level (paid or free song)\n",
    "- location of the user\n",
    "- sessionId\n",
    "- song title\n",
    "- userId\n",
    "\n",
    "The image below is a screenshot of what the denormalized data should appear like in the <font color=red>**event_datafile_new.csv**</font> after the code above is run:<br>\n",
    "\n",
    "<img src=\"images/image_event_datafile_new.jpg\">"
   ]
  },
  {
   "cell_type": "markdown",
   "metadata": {
    "editable": true
   },
   "source": [
    "## Begin writing your Apache Cassandra code in the cells below"
   ]
  },
  {
   "cell_type": "markdown",
   "metadata": {
    "editable": true
   },
   "source": [
    "#### Creating a Cluster"
   ]
  },
  {
   "cell_type": "code",
   "execution_count": 25,
   "metadata": {
    "editable": true
   },
   "outputs": [],
   "source": [
    "# This should make a connection to a Cassandra instance your local machine \n",
    "# (127.0.0.1)\n",
    "\n",
    "from cassandra.cluster import Cluster\n",
    "cluster = Cluster()\n",
    "\n",
    "# To establish connection and begin executing queries, need a session\n",
    "session = cluster.connect()"
   ]
  },
  {
   "cell_type": "markdown",
   "metadata": {
    "editable": true
   },
   "source": [
    "#### Create Keyspace"
   ]
  },
  {
   "cell_type": "code",
   "execution_count": 26,
   "metadata": {
    "editable": true
   },
   "outputs": [],
   "source": [
    "#Create a Keyspace \n",
    "try:\n",
    "    session.execute(\"\"\"\n",
    "    CREATE KEYSPACE IF NOT EXISTS udacity \n",
    "    WITH REPLICATION = \n",
    "    { 'class' : 'SimpleStrategy', 'replication_factor' : 1 }\"\"\"\n",
    ")\n",
    "\n",
    "except Exception as e:\n",
    "    print(e)"
   ]
  },
  {
   "cell_type": "markdown",
   "metadata": {
    "editable": true
   },
   "source": [
    "#### Set Keyspace"
   ]
  },
  {
   "cell_type": "code",
   "execution_count": 27,
   "metadata": {
    "editable": true
   },
   "outputs": [],
   "source": [
    "#Set KEYSPACE to the keyspace specified above\n",
    "try:\n",
    "    session.set_keyspace('udacity')\n",
    "except Exception as e:\n",
    "    print(e)"
   ]
  },
  {
   "cell_type": "markdown",
   "metadata": {
    "editable": true
   },
   "source": [
    "### Now we need to create tables to run the following queries. Remember, with Apache Cassandra you model the database tables on the queries you want to run."
   ]
  },
  {
   "cell_type": "markdown",
   "metadata": {
    "editable": true
   },
   "source": [
    "## Create queries to ask the following three questions of the data\n",
    "\n",
    "### 1. Give me the artist, song title and song's length in the music app history that was heard during  sessionId = 338, and itemInSession  = 4\n",
    "\n",
    "\n",
    "### 2. Give me only the following: name of artist, song (sorted by itemInSession) and user (first and last name) for userid = 10, sessionid = 182\n",
    "    \n",
    "\n",
    "### 3. Give me every user name (first and last) in my music app history who listened to the song 'All Hands Against His Own'\n",
    "\n",
    "\n"
   ]
  },
  {
   "cell_type": "code",
   "execution_count": 28,
   "metadata": {
    "editable": true
   },
   "outputs": [],
   "source": [
    "##Query 1:  Give me the artist, song title and song's length in the music app history that was heard during \\\n",
    "## sessionId = 338, and itemInSession = 4\n",
    "\n",
    "# Creating table\n",
    "query = \"CREATE TABLE IF NOT EXISTS music_library \"\n",
    "query = query + \"\"\"(sessionId int, itemInSession int, artist text, song_title text, \n",
    "                song_length float, PRIMARY KEY(sessionId, itemInSession))\"\"\"\n",
    "try:\n",
    "    session.execute(query)\n",
    "except Exception as e:\n",
    "    print(e)"
   ]
  },
  {
   "cell_type": "code",
   "execution_count": 29,
   "metadata": {
    "editable": true
   },
   "outputs": [],
   "source": [
    "# We have provided part of the code to set up the CSV file. Please complete the Apache Cassandra code below#\n",
    "file = 'event_datafile_new.csv'\n",
    "\n",
    "with open(file, encoding = 'utf8') as f:\n",
    "    csvreader = csv.reader(f)\n",
    "    next(csvreader) # skip header\n",
    "    for line in csvreader:\n",
    "## TO-DO: Assign the INSERT statements into the `query` variable\n",
    "        query = \"INSERT INTO music_library (sessionId, itemInSession, artist, song_title, song_length)\"\n",
    "        query = query + \"VALUES (%s, %s, %s, %s,%s)\"\n",
    "        ## TO-DO: Assign which column element should be assigned for each column in the INSERT statement.\n",
    "        ## For e.g., to INSERT artist_name and user first_name, you would change the code below to `line[0], line[1]`\n",
    "        session.execute(query, (int(line[8]), int(line[3]), line[0], line[9], float(line[5])))"
   ]
  },
  {
   "cell_type": "markdown",
   "metadata": {
    "editable": true
   },
   "source": [
    "#### Do a SELECT to verify that the data have been inserted into each table"
   ]
  },
  {
   "cell_type": "code",
   "execution_count": 30,
   "metadata": {
    "editable": true,
    "scrolled": true
   },
   "outputs": [
    {
     "name": "stdout",
     "output_type": "stream",
     "text": [
      "Anna Waronker Nothing Personal 189.62240600585938\n",
      "Habib KoitÃÂ© Din Din Wo 285.1521911621094\n",
      "Sugarland Just Might (Make Me Believe) 247.77098083496094\n",
      "A Hope For Home Absolution: Of Flight and Failure 388.38812255859375\n",
      "Kristian Stanfill I Need You 287.50323486328125\n",
      "Enrique Iglesias Tired Of Being Sorry 241.4232177734375\n",
      "Michael Cretu The Invisible Man 301.0607604980469\n",
      "Tommy Emmanuel Windy & Warm 168.14974975585938\n",
      "Dee Dee Bridgewater La Vie En Rose 318.64117431640625\n",
      "Tim O'brien Think About Last Night 176.14321899414062\n",
      "Nirvana Love Buzz 215.11790466308594\n",
      "Weezer Only In Dreams 479.32037353515625\n",
      "Nightwish She Is My Sin 286.1971130371094\n",
      "California Swag District Teach Me How To Dougie 239.17669677734375\n",
      "Miike Snow Silvia 385.35791015625\n",
      "Katy Perry I Kissed A Girl 179.4085235595703\n",
      "Sikth Peep Show 250.53994750976562\n",
      "Lily Allen Not Fair 199.88853454589844\n",
      "The Presidents of the United States of America Lump 495.7774963378906\n",
      "Wordsworth Right Now (Produced by Ayatollah) 253.15220642089844\n",
      "Rihanna Take A Bow 229.0411834716797\n",
      "Tomas Bodin Back To The African Garden 396.538330078125\n",
      "Black Eyed Peas My Humps 326.8697509765625\n",
      "Carolina Liar Show Me What I'm Looking For (Album Version) 240.45669555664062\n",
      "Kansas Dust in The Wind 202.2917938232422\n",
      "Onar Xehasmeni Melodia 306.6770935058594\n",
      "Live Lakini's Juice 286.98077392578125\n",
      "Abstract Rude Nuff Fire 196.8583221435547\n",
      "Johnny Horton Mean Mean Son Of A Gun 131.81341552734375\n",
      "The Men They Couldn't Hang Ironmasters 251.14077758789062\n",
      "Rilo Kiley The Absence Of God (Album Version) 234.0305633544922\n",
      "Shwayze Lost My Mind 201.63873291015625\n",
      "Bram Vermeulen Mamma 251.42811584472656\n",
      "Death Cab for Cutie I Will Follow You into the Dark (Album Version) 189.38729858398438\n",
      "Dwight Yoakam You're The One 239.3072967529297\n",
      "Jadakiss / Ghostface Killah / Raekwon Cartel Gathering 173.76608276367188\n",
      "Rosana Si tu no estas 256.3130187988281\n",
      "The Killers The Ballad of Michael Valentine 230.39955139160156\n",
      "Alliance Ethnik SinceritÃÂ© Et Jalousie 195.9440460205078\n",
      "Enya China Roses 289.802001953125\n",
      "Aya RL Jazz 225.436279296875\n",
      "K'Naan Wavin'  Flag 220.4991455078125\n",
      "Clor Love + Pain 227.6828155517578\n",
      "Alejandro Fernandez Solitario Y Solo 262.8436279296875\n",
      "Yonder Mountain String Band Midwest Gospel Radio 152.18893432617188\n",
      "Cradle Of Filth Her Ghost In The Fog 453.0934143066406\n",
      "Amanda Marshall Let It Rain 274.2852478027344\n",
      "Rammstein Sonne 272.4044494628906\n",
      "Cat Stevens If You Want To Sing Out_ Sing Out 167.62730407714844\n",
      "Emma Shapplin Spente Le Stelle 267.6240539550781\n",
      "Modest Mouse Float On 209.5277099609375\n",
      "Flaco Jimenez En El Cielo No Hay Cerveza (In Heaven There Is No Beer) 155.8199462890625\n",
      "Modest Mouse Float On 209.5277099609375\n",
      "Cedric Gervais feat. Second Sun Pills (Radio Edit) (Radio Edit) 230.32118225097656\n",
      "Sheena Easton Strut (1993 Digital Remaster) 239.6207733154297\n",
      "Everything But The Girl My Baby Don't Love Me 218.74893188476562\n",
      "Florence + The Machine Dog Days Are Over (Radio Edit) 219.66322326660156\n",
      "BoDeans Naked (Live) 354.010986328125\n",
      "OneRepublic Apologize 208.14321899414062\n",
      "Miley Cyrus Full Circle 194.45506286621094\n",
      "Coldplay Don't Panic 139.12771606445312\n",
      "Atreyu You Were The King_ Now You're Unconscious (Album Version) 308.37506103515625\n",
      "Bruce Springsteen Born To Run 270.54974365234375\n",
      "BjÃÂ¶rk Undo 348.5775146484375\n",
      "Big Shug It Just Don't Stop 140.56443786621094\n",
      "The Wallflowers Be Your Own Girl 315.2452697753906\n",
      "Chris Brown Ain't No Way (You Won't Love Me) 203.806884765625\n",
      "Charly GarcÃÂ­a Filosofia Barata Y Zapatos De Goma 231.73179626464844\n",
      "N.W.A ft. Eazy-E Boyz-N-The-Hood 338.1807556152344\n",
      "The Mighty Mighty Bosstones 1/2/2008 158.87628173828125\n",
      "Beastie Boys Unite (2009 Digital Remaster) 211.7220001220703\n",
      "Yuksek Take A Ride 218.95791625976562\n",
      "Fernando Ubiergo Cuando Agosto Era 21 218.74893188476562\n",
      "Phoenix Napoleon Says 192.86158752441406\n",
      "Kid Cudi / MGMT / Ratatat Pursuit Of Happiness (nightmare) 295.6795349121094\n",
      "Klaus Badelt Moonlight Serenade 128.62649536132812\n",
      "Foals Blue Blood 316.8909912109375\n",
      "'N Sync/Phil Collins Trashin' The Camp (Phil And 'N Sync Version) 143.6468963623047\n",
      "Mynt Playa Haters 166.9481201171875\n",
      "Taylor Swift You Belong With Me 230.4779052734375\n",
      "Amy Winehouse Valerie 229.85098266601562\n",
      "Jimmy Eat World Dizzy 285.8313903808594\n",
      "the bird and the bee Last Day Of Our Love 198.11219787597656\n",
      "The Kooks Eddie's Gun 132.25750732421875\n",
      "Blues Traveler Hook 290.24609375\n",
      "Coldplay Shiver 298.7619934082031\n",
      "Tom Petty And The Heartbreakers The Wild One_ Forever 183.01341247558594\n",
      "Girl Talk Give and Go 173.24363708496094\n",
      "Florence + The Machine Cosmic Love 258.5595397949219\n",
      "Three Drives Greece 2000 411.6370849609375\n",
      "Jonas Brothers Sorry 192.36526489257812\n",
      "Tevin Campbell Round And Round (Soul Mix Edit) 293.0411682128906\n",
      "Sting Windmills Of Your Mind 257.122802734375\n",
      "The Champs Tequila 132.02239990234375\n",
      "RÃÂ¶yksopp Poor Leno Jakatta Radio Mix 214.93505859375\n",
      "Avenged Sevenfold Bat Country (Album Version) 312.1105651855469\n",
      "Sam Cooke Ain't Misbehavin 122.04363250732422\n",
      "Apulanta Hallaa 219.53260803222656\n",
      "Era Cathar Rhythm 200.5677032470703\n",
      "Parov Stelar KissKiss 281.54730224609375\n",
      "De La Soul Me_ Myself & I 221.7268829345703\n",
      "Lil Wayne / T-Pain Got Money 244.58404541015625\n",
      "The Black Keys Elevator 223.84280395507812\n",
      "Adam Lambert Whataya Want From Me 227.3954620361328\n",
      "Pulp Little Girl (With Blue Eyes) 208.95301818847656\n",
      "Tricky Ponderosa 212.7930145263672\n",
      "Culture Club Believe (Demo) 282.4877014160156\n",
      "La Mosca Tse-Tse Patadas En El Corazon 195.08200073242188\n",
      "Jack Johnson Bubble Toes 236.72117614746094\n",
      "Creedence Clearwater Revival Feelin' Blue 312.89422607421875\n",
      "Brand New Not The Sun 188.4991455078125\n",
      "K-OS EMCEE Murdah 211.3301544189453\n",
      "Casino Versus Japan Moonlupe 86.30812072753906\n",
      "the bird and the bee Ray Gun 281.23382568359375\n",
      "The Black Keys All Hands Against His Own 196.9105682373047\n",
      "The Ruts West One (Shine On Me) 338.9644470214844\n",
      "Bon Iver For Emma 220.70811462402344\n",
      "Glen Washington One Of These Days 193.828125\n",
      "Dropout Year This Notebook 227.3693389892578\n",
      "Young Rebel Set If I Was 248.55465698242188\n",
      "Righteous Brothers Unchained Melody 215.90159606933594\n",
      "Me First And The Gimme Gimmes Jonny's Blessing 64.3913803100586\n",
      "Alice In Chains God Smack 230.60853576660156\n",
      "Cat Stevens Wild World 200.20199584960938\n",
      "The Temper Trap Fader 192.67872619628906\n",
      "Diplo Florida 96.86158752441406\n",
      "Afro Celt Sound System Even In My Dreams 425.01177978515625\n",
      "M.A. Numminen TULENLIEKKI 166.5562744140625\n",
      "Limp Bizkit Rollin' (Air Raid Vehicle) 214.51710510253906\n",
      "Downhere In America (Album Version) 230.7130126953125\n",
      "Roots Manuva No Love 233.92608642578125\n",
      "Lykke Li Let It Fall 162.19383239746094\n",
      "Plan B Free 222.82403564453125\n",
      "Octopus Project Hypnopaedia 498.3375244140625\n",
      "OneRepublic Secrets 224.67872619628906\n",
      "Gilberto Santa Rosa La Sigo Amando Tanto 272.1693420410156\n",
      "Eric Clapton Tears In Heaven 271.8036193847656\n",
      "ARRESTED DEVELOPMENT Fountain Of Youth 200.9856719970703\n",
      "Future Rock Gears 239.9081268310547\n",
      "Steppenwolf Born To Be Wild 208.14321899414062\n",
      "Jason Mraz & Colbie Caillat Lucky (Album Version) 189.62240600585938\n",
      "Leonard Cohen The Stranger Song 298.5791320800781\n",
      "Bright Eyes Kathy with a K's Song 279.091796875\n",
      "Radney Foster Sweet And Wild 288.9660949707031\n",
      "Neneh Cherry Manchild 232.20199584960938\n",
      "Florence + The Machine Rabbit Heart (Raise It Up) 290.4811706542969\n",
      "Cher Milord 167.41831970214844\n",
      "Edge Of Dawn Losing Ground 253.7268829345703\n",
      "Smokie Norful I Need You Now (Build A Bridge Version) 337.8411865234375\n",
      "Alliance Ethnik Creil City 265.76934814453125\n",
      "John Butler Trio Betterman (full-length/album version) 223.6860809326172\n",
      "The Temper Trap Fader 192.67872619628906\n",
      "Cute Is What We Aim For Finger Twist & Split (Album Version) 201.22076416015625\n",
      "Siriusmo Simple 272.6134338378906\n",
      "Alberto Plaza No Seas Cruel (vivo) 271.30731201171875\n",
      "Sean Lennon Into The Sun 202.97097778320312\n",
      "Nana Caymmi Acercate Mas (2000 Digital Remaster) 251.06239318847656\n",
      "Skyforger In the Yard of the Father's Son 38.9481201171875\n",
      "Bryan Ferry Slave To Love (1999 Digital Remaster) 265.87384033203125\n",
      "Foxy Shazam Wanna-be Angel (Album Version) 201.74322509765625\n",
      "Old 97's Victoria (LP Version) 231.28770446777344\n",
      "Lonnie Gordon Catch You Baby (Steve Pitron & Max Sanna Radio Edit) 181.2109832763672\n",
      "Florence + The Machine Dog Days Are Over (Radio Edit) 219.66322326660156\n",
      "Mad Cobra Flex 230.6868896484375\n",
      "Flogging Molly Punch Drunk Grinning Soul 260.75384521484375\n",
      "Sneaker Pimps Spin Spin Sugar 260.91058349609375\n",
      "Texas In July Aurora 190.69342041015625\n",
      "10 Years Wasteland 229.95545959472656\n",
      "Juanes No Siento Penas 233.40362548828125\n",
      "Passion Pit Sleepyhead 174.75872802734375\n",
      "OneRepublic Secrets 224.67872619628906\n",
      "PeterLicht Heiterkeit 306.8077087402344\n",
      "The Smiths The Boy With The Thorn In His Side 196.6754608154297\n",
      "Quique Gonzalez Cuando Eramos Reyes 214.20362854003906\n",
      "Muse Pink Ego Box 210.46812438964844\n",
      "Hooligans Szex & KV 189.9881134033203\n",
      "Fluke Bermuda 478.92852783203125\n",
      "Maldita Nerea Supelicula 241.16200256347656\n",
      "Cherise No Good 4 You 229.69424438476562\n",
      "King ChangÃÂ³ ConfesiÃÂ³n 340.74078369140625\n",
      "Gang Of Four I Found That Essence Rare 193.14892578125\n",
      "Line Renaud Le Soir 176.16934204101562\n"
     ]
    }
   ],
   "source": [
    "##Add in the SELECT statement to verify the data was entered into the table\n",
    "query = \"SELECT artist, song_title, song_length from music_library\"\n",
    "try:\n",
    "    rows = session.execute(query)\n",
    "except Exception as e:\n",
    "    print(e)\n",
    "    \n",
    "for row in rows:\n",
    "    print (row.artist, row.song_title, row.song_length)"
   ]
  },
  {
   "cell_type": "code",
   "execution_count": 31,
   "metadata": {
    "editable": true
   },
   "outputs": [],
   "source": [
    "##Add in the SELECT statement to verify the data was entered into the table\n",
    "query = \"SELECT artist, song_title, song_length from music_library WHERE sessionId = 338 AND itemInSession = 4\"\n",
    "try:\n",
    "    rows = session.execute(query)\n",
    "except Exception as e:\n",
    "    print(e)\n",
    "    \n",
    "for row in rows:\n",
    "    print (row.artist, row.song_title, row.song_length)"
   ]
  },
  {
   "cell_type": "markdown",
   "metadata": {
    "editable": true
   },
   "source": [
    "### COPY AND REPEAT THE ABOVE THREE CELLS FOR EACH OF THE THREE QUESTIONS"
   ]
  },
  {
   "cell_type": "code",
   "execution_count": 32,
   "metadata": {
    "editable": true
   },
   "outputs": [
    {
     "data": {
      "text/plain": [
       "<cassandra.cluster.ResultSet at 0x7fd05ae44080>"
      ]
     },
     "execution_count": 32,
     "metadata": {},
     "output_type": "execute_result"
    }
   ],
   "source": [
    " #Query 2: Give me only the following: name of artist, song (sorted by itemInSession) and user (first and last name)\\\n",
    "# for userid = 10, sessionid = 182\n",
    "session.execute(\"\"\"      \n",
    "\n",
    "        create table if not exists event_log\n",
    "            \n",
    "            (artist text, \n",
    "            song text, \n",
    "            first_name text, \n",
    "            last_name text,\n",
    "            user_id int,\n",
    "            session_id int,\n",
    "            item_in_session int, \n",
    "            primary key ((user_id, session_id), item_in_session))\n",
    "\"\"\")"
   ]
  },
  {
   "cell_type": "code",
   "execution_count": 33,
   "metadata": {
    "editable": true
   },
   "outputs": [],
   "source": [
    "file = 'event_datafile_new.csv'\n",
    "\n",
    "with open(file, encoding = 'utf8') as f:\n",
    "    csvreader = csv.reader(f)\n",
    "    next(csvreader) \n",
    "    for line in csvreader:\n",
    "        query = \"INSERT INTO event_log (artist, song, first_name, last_name, user_id, session_id, item_in_session)\"\n",
    "        query = query + \" VALUES (%s, %s, %s, %s, %s, %s, %s)\"\n",
    "        session.execute(query, (line[0], line[9], line[1], line[4], int(line[10]), int(line[8]), int(line[3])))"
   ]
  },
  {
   "cell_type": "code",
   "execution_count": 34,
   "metadata": {
    "editable": true
   },
   "outputs": [],
   "source": [
    "# Query 2: Give me only the following: name of artist, song (sorted by itemInSession) and user (first and last name)\\\n",
    "# for userid = 10, sessionid = 182\n",
    "rows = session.execute(\"\"\"\n",
    "                            select artist , song , first_name , last_name\n",
    "                            from event_log\n",
    "                            where user_id = 10 and session_id = 182\n",
    "                            order by item_in_session \n",
    "\n",
    "\"\"\")\n",
    "for row in rows:\n",
    "    print (row.artist , row.song , row.first_name , row.last_name)"
   ]
  },
  {
   "cell_type": "code",
   "execution_count": 35,
   "metadata": {
    "editable": true
   },
   "outputs": [
    {
     "data": {
      "text/plain": [
       "<cassandra.cluster.ResultSet at 0x7fd05ae3eba8>"
      ]
     },
     "execution_count": 35,
     "metadata": {},
     "output_type": "execute_result"
    }
   ],
   "source": [
    "# Query 3: Give me every user name (first and last) in my music app history who listened to \n",
    "# the song 'All Hands Against His Own'\n",
    "session.execute(\"\"\"\n",
    "                    create table if not exists song_users (\n",
    "                    song text, user_id int, first_name text, last_name text, \n",
    "                    primary key (song, user_id))\n",
    "\"\"\")"
   ]
  },
  {
   "cell_type": "code",
   "execution_count": 36,
   "metadata": {
    "editable": true
   },
   "outputs": [],
   "source": [
    "file = 'event_datafile_new.csv'\n",
    "\n",
    "df = pd.read_csv(file, usecols=[1, 4, 9, 10])\n",
    "df.drop_duplicates(inplace=True)\n",
    "\n",
    "for ix, row in df.iterrows():\n",
    "    query = \"INSERT INTO song_users (song, user_id, first_name, last_name)\"\n",
    "    query = query + \" VALUES (%s, %s, %s, %s)\"\n",
    "    session.execute(query, (row['song'], row['userId'], row['firstName'], row['lastName']))"
   ]
  },
  {
   "cell_type": "code",
   "execution_count": 37,
   "metadata": {
    "editable": true
   },
   "outputs": [
    {
     "name": "stdout",
     "output_type": "stream",
     "text": [
      "Sara Johnson\n"
     ]
    }
   ],
   "source": [
    "rows = session.execute(\"\"\"SELECT first_name, last_name FROM song_users WHERE song = 'All Hands Against His Own'\"\"\")\n",
    "\n",
    "for row in rows:\n",
    "    print( row.first_name, row.last_name )"
   ]
  },
  {
   "cell_type": "code",
   "execution_count": null,
   "metadata": {
    "editable": true
   },
   "outputs": [],
   "source": []
  },
  {
   "cell_type": "markdown",
   "metadata": {
    "editable": true
   },
   "source": [
    "### Drop the tables before closing out the sessions"
   ]
  },
  {
   "cell_type": "code",
   "execution_count": 38,
   "metadata": {
    "editable": true
   },
   "outputs": [
    {
     "data": {
      "text/plain": [
       "<cassandra.cluster.ResultSet at 0x7fd05ae48c88>"
      ]
     },
     "execution_count": 38,
     "metadata": {},
     "output_type": "execute_result"
    }
   ],
   "source": [
    "##Drop the table before closing out the sessions\n",
    "session.execute(\"drop table music_library\")\n",
    "session.execute(\"drop table event_log\")\n",
    "session.execute(\"drop table song_users\")"
   ]
  },
  {
   "cell_type": "code",
   "execution_count": null,
   "metadata": {
    "editable": true
   },
   "outputs": [],
   "source": []
  },
  {
   "cell_type": "markdown",
   "metadata": {
    "editable": true
   },
   "source": [
    "### Close the session and cluster connection¶"
   ]
  },
  {
   "cell_type": "code",
   "execution_count": 39,
   "metadata": {
    "editable": true
   },
   "outputs": [],
   "source": [
    "session.shutdown()\n",
    "cluster.shutdown()"
   ]
  },
  {
   "cell_type": "code",
   "execution_count": null,
   "metadata": {
    "editable": true
   },
   "outputs": [],
   "source": []
  },
  {
   "cell_type": "code",
   "execution_count": null,
   "metadata": {
    "editable": true
   },
   "outputs": [],
   "source": []
  }
 ],
 "metadata": {
  "kernelspec": {
   "display_name": "Python 3",
   "language": "python",
   "name": "python3"
  },
  "language_info": {
   "codemirror_mode": {
    "name": "ipython",
    "version": 3
   },
   "file_extension": ".py",
   "mimetype": "text/x-python",
   "name": "python",
   "nbconvert_exporter": "python",
   "pygments_lexer": "ipython3",
   "version": "3.6.3"
  }
 },
 "nbformat": 4,
 "nbformat_minor": 4
}
